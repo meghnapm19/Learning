{
 "cells": [
  {
   "cell_type": "code",
   "execution_count": null,
   "id": "5ffd380a",
   "metadata": {},
   "outputs": [],
   "source": [
    "def customEncrypt(inputText, N, D):\n",
    "    reverseText = inputText[::-1]\n",
    "    result = \"\"\n",
    "    if D==1:\n",
    "   # transverse the plain text\n",
    "       for i in range(len(reverseText)):\n",
    "          char = reverseText[i]\n",
    "          # Encrypt uppercase characters in plain text\n",
    "          if (char.isupper()):\n",
    "             result += chr((ord(char) + N -65) % 26 + 65)\n",
    "          # Encrypt lowercase characters in plain text\n",
    "          elif (char.islower()):\n",
    "             result += chr((ord(char) + N - 97) % 26 + 97)\n",
    "          elif (char.isnumeric()):\n",
    "             result += chr((ord(char) + N - 48) % 26 + 48)\n",
    "          else:\n",
    "             result += chr((ord(char) + N - 34) % 26 + 34)\n",
    "    else: \n",
    "        for i in range(len(reverseText)):\n",
    "          char = reverseText[i]\n",
    "          # Encrypt uppercase characters in plain text\n",
    "          if (char.isupper()):\n",
    "             result += chr((ord(char) - N -65) % 26 + 65)\n",
    "          # Encrypt lowercase characters in plain text\n",
    "          elif (char.islower()):\n",
    "             result += chr((ord(char) - N - 97) % 26 + 97)\n",
    "          elif (char.isnumeric()):\n",
    "             result += chr((ord(char) - N - 48) % 26 + 48)\n",
    "          else:\n",
    "             result += chr((ord(char) - N - 34) % 26 + 34)\n",
    "    return result\n",
    "        "
   ]
  },
  {
   "cell_type": "code",
   "execution_count": null,
   "id": "17f792d9",
   "metadata": {},
   "outputs": [],
   "source": [
    "customEncrypt(\"ABCD\", 2, -1)"
   ]
  },
  {
   "cell_type": "code",
   "execution_count": null,
   "id": "294d4312",
   "metadata": {},
   "outputs": [],
   "source": [
    "def testcustomEncrypt():\n",
    "    print(\"1\")\n",
    "    for userid in \" \" or \"!\":\n",
    "        print(\"enter userid again\")\n",
    "    else:\n",
    "        userid = input(\"enter userid as text\")\n",
    "    password = input(\"enter password as text\")\n",
    "    N = int(input(\"enter value of n\"))\n",
    "    D = int(input(\"enter value of d\"))\n",
    "    v1 = customEncrypt(userid, N, D)\n",
    "    v2 = customEncrypt(password, N, D)\n",
    "    print(\"encrypted userid: \" +v1)\n",
    "    print(\"encrypted password: \" +v2)\n",
    "    rev_D = int(-D)\n",
    "    v3 = customEncrypt(v1, N, rev_D)\n",
    "    v4 = customEncrypt(v2, N, rev_D)\n",
    "    print(\"original userid: \" +v3)\n",
    "    print(\"original password: \" +v4)"
   ]
  },
  {
   "cell_type": "code",
   "execution_count": null,
   "id": "0fc26f23",
   "metadata": {},
   "outputs": [],
   "source": [
    "testcustomEncrypt()"
   ]
  },
  {
   "cell_type": "code",
   "execution_count": null,
   "id": "0607d00e",
   "metadata": {},
   "outputs": [],
   "source": [
    "testcustomEncrypt()"
   ]
  },
  {
   "cell_type": "code",
   "execution_count": null,
   "id": "40718f01",
   "metadata": {},
   "outputs": [
    {
     "name": "stdout",
     "output_type": "stream",
     "text": [
      "enter userid as textjhh\n",
      "enter password as textnjb\n",
      "enter value of n3\n",
      "enter value of d1\n",
      "enter again\n"
     ]
    }
   ],
   "source": [
    "def testcustomEncrypt():\n",
    "    flag=True\n",
    "    while(flag==True):\n",
    "        \n",
    "        userid = input(\"enter userid as text\")\n",
    "        if ' ' in userid or '!' in userid:\n",
    "            print(\"The input is invalid\")\n",
    "        else:\n",
    "            flag=False\n",
    "    password = input(\"enter password as text\")\n",
    "    x=True\n",
    "    while(x==True):\n",
    "        N = int(input(\"enter value of n\"))\n",
    "        if N<1:\n",
    "            print('enter again')\n",
    "        else:\n",
    "            break\n",
    "    y=True\n",
    "    while(y==True):\n",
    "        D = int(input(\"enter value of d\"))\n",
    "        if D not in [1,-1]:\n",
    "            print(\"enter again\")\n",
    "        else: \n",
    "            break\n",
    "    v1 = customEncrypt(userid, N, D)\n",
    "    v2 = customEncrypt(password, N, D)\n",
    "    print(\"encrypted userid: \" +v1)\n",
    "    print(\"encrypted password: \" +v2)\n",
    "    rev_D = int(-D)\n",
    "    v3 = customEncrypt(v1, N, rev_D)\n",
    "    v4 = customEncrypt(v2, N, rev_D)\n",
    "    print(\"original userid: \" +v3)\n",
    "    print(\"original password: \" +v4)\n",
    "testcustomEncrypt()"
   ]
  },
  {
   "cell_type": "code",
   "execution_count": 28,
   "id": "fa495862",
   "metadata": {},
   "outputs": [
    {
     "name": "stdout",
     "output_type": "stream",
     "text": [
      "enter userid as textmghbbn\n"
     ]
    },
    {
     "ename": "KeyboardInterrupt",
     "evalue": "Interrupted by user",
     "output_type": "error",
     "traceback": [
      "\u001b[0;31m---------------------------------------------------------------------------\u001b[0m",
      "\u001b[0;31mKeyboardInterrupt\u001b[0m                         Traceback (most recent call last)",
      "Input \u001b[0;32mIn [28]\u001b[0m, in \u001b[0;36m<cell line: 1>\u001b[0;34m()\u001b[0m\n\u001b[0;32m----> 1\u001b[0m \u001b[43mtestcustomEncrypt\u001b[49m\u001b[43m(\u001b[49m\u001b[43m)\u001b[49m\n",
      "Input \u001b[0;32mIn [27]\u001b[0m, in \u001b[0;36mtestcustomEncrypt\u001b[0;34m()\u001b[0m\n\u001b[1;32m      3\u001b[0m \u001b[38;5;28;01mif\u001b[39;00m \u001b[38;5;124m'\u001b[39m\u001b[38;5;124m \u001b[39m\u001b[38;5;124m'\u001b[39m \u001b[38;5;129;01min\u001b[39;00m userid \u001b[38;5;129;01mor\u001b[39;00m \u001b[38;5;124m'\u001b[39m\u001b[38;5;124m!\u001b[39m\u001b[38;5;124m'\u001b[39m \u001b[38;5;129;01min\u001b[39;00m userid:\n\u001b[1;32m      4\u001b[0m     \u001b[38;5;28mprint\u001b[39m(\u001b[38;5;124m\"\u001b[39m\u001b[38;5;124mThe input is invalid\u001b[39m\u001b[38;5;124m\"\u001b[39m)\n\u001b[0;32m----> 5\u001b[0m password \u001b[38;5;241m=\u001b[39m \u001b[38;5;28;43minput\u001b[39;49m\u001b[43m(\u001b[49m\u001b[38;5;124;43m\"\u001b[39;49m\u001b[38;5;124;43menter password as text\u001b[39;49m\u001b[38;5;124;43m\"\u001b[39;49m\u001b[43m)\u001b[49m\n\u001b[1;32m      6\u001b[0m N \u001b[38;5;241m=\u001b[39m \u001b[38;5;28mint\u001b[39m(\u001b[38;5;28minput\u001b[39m(\u001b[38;5;124m\"\u001b[39m\u001b[38;5;124menter value of n\u001b[39m\u001b[38;5;124m\"\u001b[39m))\n\u001b[1;32m      7\u001b[0m D \u001b[38;5;241m=\u001b[39m \u001b[38;5;28mint\u001b[39m(\u001b[38;5;28minput\u001b[39m(\u001b[38;5;124m\"\u001b[39m\u001b[38;5;124menter value of d\u001b[39m\u001b[38;5;124m\"\u001b[39m))\n",
      "File \u001b[0;32m~/opt/anaconda3/lib/python3.9/site-packages/ipykernel/kernelbase.py:1075\u001b[0m, in \u001b[0;36mKernel.raw_input\u001b[0;34m(self, prompt)\u001b[0m\n\u001b[1;32m   1071\u001b[0m \u001b[38;5;28;01mif\u001b[39;00m \u001b[38;5;129;01mnot\u001b[39;00m \u001b[38;5;28mself\u001b[39m\u001b[38;5;241m.\u001b[39m_allow_stdin:\n\u001b[1;32m   1072\u001b[0m     \u001b[38;5;28;01mraise\u001b[39;00m StdinNotImplementedError(\n\u001b[1;32m   1073\u001b[0m         \u001b[38;5;124m\"\u001b[39m\u001b[38;5;124mraw_input was called, but this frontend does not support input requests.\u001b[39m\u001b[38;5;124m\"\u001b[39m\n\u001b[1;32m   1074\u001b[0m     )\n\u001b[0;32m-> 1075\u001b[0m \u001b[38;5;28;01mreturn\u001b[39;00m \u001b[38;5;28;43mself\u001b[39;49m\u001b[38;5;241;43m.\u001b[39;49m\u001b[43m_input_request\u001b[49m\u001b[43m(\u001b[49m\n\u001b[1;32m   1076\u001b[0m \u001b[43m    \u001b[49m\u001b[38;5;28;43mstr\u001b[39;49m\u001b[43m(\u001b[49m\u001b[43mprompt\u001b[49m\u001b[43m)\u001b[49m\u001b[43m,\u001b[49m\n\u001b[1;32m   1077\u001b[0m \u001b[43m    \u001b[49m\u001b[38;5;28;43mself\u001b[39;49m\u001b[38;5;241;43m.\u001b[39;49m\u001b[43m_parent_ident\u001b[49m\u001b[43m[\u001b[49m\u001b[38;5;124;43m\"\u001b[39;49m\u001b[38;5;124;43mshell\u001b[39;49m\u001b[38;5;124;43m\"\u001b[39;49m\u001b[43m]\u001b[49m\u001b[43m,\u001b[49m\n\u001b[1;32m   1078\u001b[0m \u001b[43m    \u001b[49m\u001b[38;5;28;43mself\u001b[39;49m\u001b[38;5;241;43m.\u001b[39;49m\u001b[43mget_parent\u001b[49m\u001b[43m(\u001b[49m\u001b[38;5;124;43m\"\u001b[39;49m\u001b[38;5;124;43mshell\u001b[39;49m\u001b[38;5;124;43m\"\u001b[39;49m\u001b[43m)\u001b[49m\u001b[43m,\u001b[49m\n\u001b[1;32m   1079\u001b[0m \u001b[43m    \u001b[49m\u001b[43mpassword\u001b[49m\u001b[38;5;241;43m=\u001b[39;49m\u001b[38;5;28;43;01mFalse\u001b[39;49;00m\u001b[43m,\u001b[49m\n\u001b[1;32m   1080\u001b[0m \u001b[43m\u001b[49m\u001b[43m)\u001b[49m\n",
      "File \u001b[0;32m~/opt/anaconda3/lib/python3.9/site-packages/ipykernel/kernelbase.py:1120\u001b[0m, in \u001b[0;36mKernel._input_request\u001b[0;34m(self, prompt, ident, parent, password)\u001b[0m\n\u001b[1;32m   1117\u001b[0m             \u001b[38;5;28;01mbreak\u001b[39;00m\n\u001b[1;32m   1118\u001b[0m \u001b[38;5;28;01mexcept\u001b[39;00m \u001b[38;5;167;01mKeyboardInterrupt\u001b[39;00m:\n\u001b[1;32m   1119\u001b[0m     \u001b[38;5;66;03m# re-raise KeyboardInterrupt, to truncate traceback\u001b[39;00m\n\u001b[0;32m-> 1120\u001b[0m     \u001b[38;5;28;01mraise\u001b[39;00m \u001b[38;5;167;01mKeyboardInterrupt\u001b[39;00m(\u001b[38;5;124m\"\u001b[39m\u001b[38;5;124mInterrupted by user\u001b[39m\u001b[38;5;124m\"\u001b[39m) \u001b[38;5;28;01mfrom\u001b[39;00m \u001b[38;5;28mNone\u001b[39m\n\u001b[1;32m   1121\u001b[0m \u001b[38;5;28;01mexcept\u001b[39;00m \u001b[38;5;167;01mException\u001b[39;00m:\n\u001b[1;32m   1122\u001b[0m     \u001b[38;5;28mself\u001b[39m\u001b[38;5;241m.\u001b[39mlog\u001b[38;5;241m.\u001b[39mwarning(\u001b[38;5;124m\"\u001b[39m\u001b[38;5;124mInvalid Message:\u001b[39m\u001b[38;5;124m\"\u001b[39m, exc_info\u001b[38;5;241m=\u001b[39m\u001b[38;5;28;01mTrue\u001b[39;00m)\n",
      "\u001b[0;31mKeyboardInterrupt\u001b[0m: Interrupted by user"
     ]
    }
   ],
   "source": [
    "testcustomEncrypt()"
   ]
  },
  {
   "cell_type": "code",
   "execution_count": null,
   "id": "48aaf1fd",
   "metadata": {},
   "outputs": [],
   "source": [
    "10+1"
   ]
  },
  {
   "cell_type": "markdown",
   "id": "5fd39b6a",
   "metadata": {},
   "source": [
    "10+1\n"
   ]
  },
  {
   "cell_type": "code",
   "execution_count": null,
   "id": "cf5b67c7",
   "metadata": {},
   "outputs": [],
   "source": [
    "10+1\n"
   ]
  },
  {
   "cell_type": "code",
   "execution_count": null,
   "id": "6ad7bcf4",
   "metadata": {},
   "outputs": [],
   "source": []
  },
  {
   "cell_type": "code",
   "execution_count": null,
   "id": "8eb45d00",
   "metadata": {},
   "outputs": [],
   "source": []
  },
  {
   "cell_type": "code",
   "execution_count": 24,
   "id": "2cb9adf9",
   "metadata": {},
   "outputs": [
    {
     "data": {
      "text/plain": [
       "12"
      ]
     },
     "execution_count": 24,
     "metadata": {},
     "output_type": "execute_result"
    }
   ],
   "source": [
    "10+2\n"
   ]
  },
  {
   "cell_type": "code",
   "execution_count": null,
   "id": "a97d1e30",
   "metadata": {},
   "outputs": [],
   "source": []
  }
 ],
 "metadata": {
  "kernelspec": {
   "display_name": "Python 3 (ipykernel)",
   "language": "python",
   "name": "python3"
  },
  "language_info": {
   "codemirror_mode": {
    "name": "ipython",
    "version": 3
   },
   "file_extension": ".py",
   "mimetype": "text/x-python",
   "name": "python",
   "nbconvert_exporter": "python",
   "pygments_lexer": "ipython3",
   "version": "3.9.12"
  }
 },
 "nbformat": 4,
 "nbformat_minor": 5
}
