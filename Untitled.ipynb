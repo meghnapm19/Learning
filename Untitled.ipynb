{
 "cells": [
  {
   "cell_type": "code",
   "execution_count": 6,
   "id": "5ffd380a",
   "metadata": {},
   "outputs": [],
   "source": [
    "def customEncrypt(inputText, N, D):\n",
    "    reverseText = inputText[::-1]\n",
    "    result = \"\"\n",
    "    if D==1:\n",
    "   # transverse the plain text\n",
    "       for i in range(len(reverseText)):\n",
    "          char = reverseText[i]\n",
    "          # Encrypt uppercase characters in plain text\n",
    "          if (char.isupper()):\n",
    "             result += chr((ord(char) + N -65) % 26 + 65)\n",
    "          # Encrypt lowercase characters in plain text\n",
    "          elif (char.islower()):\n",
    "             result += chr((ord(char) + N - 97) % 26 + 97)\n",
    "          elif (char.isnumeric()):\n",
    "             result += chr((ord(char) + N - 48) % 26 + 48)\n",
    "          else:\n",
    "             result += chr((ord(char) + N - 34) % 26 + 34)\n",
    "    else: \n",
    "        for i in range(len(reverseText)):\n",
    "          char = reverseText[i]\n",
    "          # Encrypt uppercase characters in plain text\n",
    "          if (char.isupper()):\n",
    "             result += chr((ord(char) - N -65) % 26 + 65)\n",
    "          # Encrypt lowercase characters in plain text\n",
    "          elif (char.islower()):\n",
    "             result += chr((ord(char) - N - 97) % 26 + 97)\n",
    "          elif (char.isnumeric()):\n",
    "             result += chr((ord(char) - N - 48) % 26 + 48)\n",
    "          else:\n",
    "             result += chr((ord(char) - N - 34) % 26 + 34)\n",
    "    return result\n",
    "        "
   ]
  },
  {
   "cell_type": "code",
   "execution_count": 3,
   "id": "175b6a0d",
   "metadata": {},
   "outputs": [
    {
     "data": {
      "text/plain": [
       "'BAZY'"
      ]
     },
     "execution_count": 3,
     "metadata": {},
     "output_type": "execute_result"
    }
   ],
   "source": [
    "customEncrypt(\"ABCD\", 2, -1)"
   ]
  },
  {
   "cell_type": "code",
   "execution_count": null,
   "id": "6d6962a6",
   "metadata": {},
   "outputs": [],
   "source": [
    "def testcustomEncrypt():\n",
    "    for userid in \" \" or \"!\":\n",
    "        print(\"enter userid again\")\n",
    "    else:\n",
    "        userid = input(\"enter userid as text\")\n",
    "    password = input(\"enter password as text\")\n",
    "    N = int(input(\"enter value of n\"))\n",
    "    D = int(input(\"enter value of d\"))\n",
    "    v1 = customEncrypt(userid, N, D)\n",
    "    v2 = customEncrypt(password, N, D)\n",
    "    print(\"encrypted userid: \" +v1)\n",
    "    print(\"encrypted password: \" +v2)\n",
    "    rev_D = int(-D)\n",
    "    v3 = customEncrypt(v1, N, rev_D)\n",
    "    v4 = customEncrypt(v2, N, rev_D)\n",
    "    print(\"original userid: \" +v3)\n",
    "    print(\"original password: \" +v4)"
   ]
  },
  {
   "cell_type": "code",
   "execution_count": null,
   "id": "6aed2bd6",
   "metadata": {},
   "outputs": [],
   "source": [
    "testcustomEncrypt()"
   ]
  },
  {
   "cell_type": "code",
   "execution_count": 11,
   "id": "7313265e",
   "metadata": {},
   "outputs": [
    {
     "name": "stdout",
     "output_type": "stream",
     "text": [
      "enter userid as textasamant\n",
      "enter password as textTemp123\n",
      "enter value of n3\n",
      "enter value of d1\n",
      "encrypted userid: wqdpdvd\n",
      "encrypted password: 654sphW\n"
     ]
    }
   ],
   "source": [
    "testcustomEncrypt()"
   ]
  },
  {
   "cell_type": "code",
   "execution_count": null,
   "id": "717c6345",
   "metadata": {},
   "outputs": [],
   "source": []
  }
 ],
 "metadata": {
  "kernelspec": {
   "display_name": "Python 3 (ipykernel)",
   "language": "python",
   "name": "python3"
  },
  "language_info": {
   "codemirror_mode": {
    "name": "ipython",
    "version": 3
   },
   "file_extension": ".py",
   "mimetype": "text/x-python",
   "name": "python",
   "nbconvert_exporter": "python",
   "pygments_lexer": "ipython3",
   "version": "3.9.12"
  }
 },
 "nbformat": 4,
 "nbformat_minor": 5
}
